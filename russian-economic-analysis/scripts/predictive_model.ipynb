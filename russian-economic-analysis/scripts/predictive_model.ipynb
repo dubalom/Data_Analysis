{
 "cells": [
  {
   "cell_type": "code",
   "execution_count": 1,
   "metadata": {},
   "outputs": [],
   "source": [
    "import pandas as pd\n",
    "from sklearn.model_selection import train_test_split\n",
    "from sklearn.linear_model import LinearRegression\n",
    "from sklearn.metrics import mean_squared_error, r2_score\n",
    "import joblib"
   ]
  },
  {
   "cell_type": "code",
   "execution_count": 2,
   "metadata": {},
   "outputs": [
    {
     "name": "stdout",
     "output_type": "stream",
     "text": [
      "Model Evaluation:\n",
      "Mean Squared Error: 1.0703494586015148\n",
      "R^2 Score: 0.9999920406153524\n",
      "Model saved to ../models/linear_regression_model.pkl\n"
     ]
    }
   ],
   "source": [
    "def train_predictive_model(file_path):\n",
    "    # Load the dataset\n",
    "    df = pd.read_csv(file_path)\n",
    "    \n",
    "    # Define features and target variable\n",
    "    features = ['Inflation', 'Unemployment', 'Exports']\n",
    "    target = 'GDP'\n",
    "    X = df[features]\n",
    "    y = df[target]\n",
    "    \n",
    "    # Split the data into training and testing sets\n",
    "    X_train, X_test, y_train, y_test = train_test_split(X, y, test_size=0.2, random_state=42)\n",
    "    \n",
    "    # Train a linear regression model\n",
    "    model = LinearRegression()\n",
    "    model.fit(X_train, y_train)\n",
    "    \n",
    "    # Evaluate the model\n",
    "    y_pred = model.predict(X_test)\n",
    "    mse = mean_squared_error(y_test, y_pred)\n",
    "    r2 = r2_score(y_test, y_pred)\n",
    "    print(\"Model Evaluation:\")\n",
    "    print(\"Mean Squared Error:\", mse)\n",
    "    print(\"R^2 Score:\", r2)\n",
    "    \n",
    "    # Save the model\n",
    "    joblib.dump(model, \"../models/linear_regression_model.pkl\")\n",
    "    print(\"Model saved to ../models/linear_regression_model.pkl\")\n",
    "\n",
    "if __name__ == \"__main__\":\n",
    "    file_path = \"../data/russian_economic_data.csv\"\n",
    "    train_predictive_model(file_path)"
   ]
  }
 ],
 "metadata": {
  "interpreter": {
   "hash": "34cd1f02a1c82374b0d515644597fa68fe031e4077c6ea0c9ceb203f5836fddb"
  },
  "kernelspec": {
   "display_name": "Python 3.8.8 ('base')",
   "language": "python",
   "name": "python3"
  },
  "language_info": {
   "codemirror_mode": {
    "name": "ipython",
    "version": 3
   },
   "file_extension": ".py",
   "mimetype": "text/x-python",
   "name": "python",
   "nbconvert_exporter": "python",
   "pygments_lexer": "ipython3",
   "version": "3.8.8"
  },
  "orig_nbformat": 4
 },
 "nbformat": 4,
 "nbformat_minor": 2
}
