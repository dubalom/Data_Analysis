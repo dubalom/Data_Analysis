{
 "cells": [
  {
   "cell_type": "code",
   "execution_count": 1,
   "metadata": {},
   "outputs": [
    {
     "name": "stdout",
     "output_type": "stream",
     "text": [
      "Data loaded and cleaned:\n",
      "   Year  GDP  Inflation  Unemployment  Exports\n",
      "0  1990  300       10.5           7.0       50\n",
      "1  1991  347        8.2           7.5       62\n",
      "2  1992  395        9.1           8.0       73\n",
      "3  1993  442        7.8           8.3       84\n",
      "4  1994  490        6.5           8.5       96\n"
     ]
    }
   ],
   "source": [
    "import pandas as pd\n",
    "\n",
    "def load_and_clean_data(file_path):\n",
    "    \"\"\"\n",
    "    Loads the dataset and performs basic cleaning operations.\n",
    "    \"\"\"\n",
    "    # Load data\n",
    "    df = pd.read_csv(file_path)\n",
    "    \n",
    "    # Example cleaning: drop rows with missing values\n",
    "    df.dropna(inplace=True)\n",
    "    \n",
    "    return df\n",
    "\n",
    "if __name__ == \"__main__\":\n",
    "    file_path = \"../data/russian_economic_data.csv\"\n",
    "    df = load_and_clean_data(file_path)\n",
    "    print(\"Data loaded and cleaned:\")\n",
    "    print(df.head())\n"
   ]
  }
 ],
 "metadata": {
  "interpreter": {
   "hash": "34cd1f02a1c82374b0d515644597fa68fe031e4077c6ea0c9ceb203f5836fddb"
  },
  "kernelspec": {
   "display_name": "Python 3.8.8 ('base')",
   "language": "python",
   "name": "python3"
  },
  "language_info": {
   "codemirror_mode": {
    "name": "ipython",
    "version": 3
   },
   "file_extension": ".py",
   "mimetype": "text/x-python",
   "name": "python",
   "nbconvert_exporter": "python",
   "pygments_lexer": "ipython3",
   "version": "3.8.8"
  },
  "orig_nbformat": 4
 },
 "nbformat": 4,
 "nbformat_minor": 2
}
