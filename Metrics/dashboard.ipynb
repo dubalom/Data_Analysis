{
 "cells": [
  {
   "cell_type": "code",
   "execution_count": 1,
   "metadata": {},
   "outputs": [],
   "source": [
    "import pandas as pd\n",
    "import matplotlib.pyplot as plt\n",
    "import sqlite3"
   ]
  },
  {
   "cell_type": "code",
   "execution_count": 2,
   "metadata": {},
   "outputs": [],
   "source": [
    "def create_database():\n",
    "    # Connect to an in-memory SQLite database\n",
    "    conn = sqlite3.connect(':memory:')\n",
    "    conn.execute('''\n",
    "        CREATE TABLE sales (\n",
    "            id INTEGER PRIMARY KEY AUTOINCREMENT,\n",
    "            date TEXT,\n",
    "            product TEXT,\n",
    "            sales INTEGER\n",
    "        )\n",
    "    ''')\n",
    "    \n",
    "    # Sample data: (date, product, sales)\n",
    "    data = [\n",
    "        ('2023-01-01', 'Product A', 100),\n",
    "        ('2023-01-02', 'Product B', 150),\n",
    "        ('2023-01-03', 'Product A', 200),\n",
    "        ('2023-01-04', 'Product B', 170),\n",
    "        ('2023-01-05', 'Product A', 130),\n",
    "        ('2023-01-06', 'Product B', 160)\n",
    "    ]\n",
    "    \n",
    "    conn.executemany('INSERT INTO sales (date, product, sales) VALUES (?, ?, ?)', data)\n",
    "    conn.commit()\n",
    "    return conn"
   ]
  },
  {
   "cell_type": "code",
   "execution_count": 3,
   "metadata": {},
   "outputs": [
    {
     "data": {
      "image/png": "[encoded data removed]",
      "text/plain": [
       "<Figure size 576x432 with 1 Axes>"
      ]
     },
     "metadata": {
      "needs_background": "light"
     },
     "output_type": "display_data"
    }
   ],
   "source": [
    "def load_and_process_data(conn):\n",
    "    # Query data using SQL and load into a pandas DataFrame\n",
    "    df = pd.read_sql_query(\"SELECT date, product, sales FROM sales\", conn)\n",
    "    # Convert 'date' column to datetime\n",
    "    df['date'] = pd.to_datetime(df['date'])\n",
    "    return df\n",
    "\n",
    "def plot_data(df):\n",
    "    # Group data by product and sum sales\n",
    "    product_sales = df.groupby('product')['sales'].sum().reset_index()\n",
    "    \n",
    "    # Plot a bar chart of total sales by product\n",
    "    plt.figure(figsize=(8, 6))\n",
    "    plt.bar(product_sales['product'], product_sales['sales'], color=['skyblue', 'salmon'])\n",
    "    plt.title('Total Sales by Product')\n",
    "    plt.xlabel('Product')\n",
    "    plt.ylabel('Sales')\n",
    "    plt.grid(axis='y', alpha=0.75)\n",
    "    plt.show()\n",
    "\n",
    "def main():\n",
    "    conn = create_database()\n",
    "    df = load_and_process_data(conn)\n",
    "    plot_data(df)\n",
    "    conn.close()\n",
    "\n",
    "if __name__ == '__main__':\n",
    "    main()"
   ]
  }
 ],
 "metadata": {
  "interpreter": {
   "hash": "34cd1f02a1c82374b0d515644597fa68fe031e4077c6ea0c9ceb203f5836fddb"
  },
  "kernelspec": {
   "display_name": "Python 3.8.8 ('base')",
   "language": "python",
   "name": "python3"
  },
  "language_info": {
   "codemirror_mode": {
    "name": "ipython",
    "version": 3
   },
   "file_extension": ".py",
   "mimetype": "text/x-python",
   "name": "python",
   "nbconvert_exporter": "python",
   "pygments_lexer": "ipython3",
   "version": "3.8.8"
  },
  "orig_nbformat": 4
 },
 "nbformat": 4,
 "nbformat_minor": 2
}
